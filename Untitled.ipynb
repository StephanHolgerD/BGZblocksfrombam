{
 "cells": [
  {
   "cell_type": "code",
   "execution_count": 20,
   "id": "ce2152d8-a35f-4ddf-aee5-d3535d90859c",
   "metadata": {},
   "outputs": [],
   "source": [
    "import pysam\n",
    "from Bio import bgzf"
   ]
  },
  {
   "cell_type": "code",
   "execution_count": 2,
   "id": "4d01460c-b0d5-48cc-a90f-b424b3e41e7d",
   "metadata": {},
   "outputs": [],
   "source": [
    "bam = 'data/testdata.bam'\n",
    "bai = 'data/testdata.bam.bai'\n"
   ]
  },
  {
   "cell_type": "code",
   "execution_count": 3,
   "id": "154eb8e3-e5ac-40de-864f-947454469ca1",
   "metadata": {},
   "outputs": [],
   "source": [
    "#create header bam dict \n",
    "\n",
    "with pysam.AlignmentFile(bam) as b:\n",
    "    headerobject = b.header"
   ]
  },
  {
   "cell_type": "code",
   "execution_count": 4,
   "id": "0487f45f-3df3-463f-8e48-c821ad6777ee",
   "metadata": {},
   "outputs": [
    {
     "data": {
      "text/plain": [
       "[1]"
      ]
     },
     "execution_count": 4,
     "metadata": {},
     "output_type": "execute_result"
    }
   ],
   "source": [
    "[1,2,3][:1]"
   ]
  },
  {
   "cell_type": "code",
   "execution_count": 5,
   "id": "721dea02-5226-47b6-a1a4-d047a8116717",
   "metadata": {},
   "outputs": [],
   "source": [
    "from bai.baiparser import get_bai_bins"
   ]
  },
  {
   "cell_type": "code",
   "execution_count": 7,
   "id": "e4d15492-81fb-4a0e-a633-c66679c24dc4",
   "metadata": {},
   "outputs": [],
   "source": [
    "x = get_bai_bins(bai,0)"
   ]
  },
  {
   "cell_type": "code",
   "execution_count": 26,
   "id": "65f02f14-f82b-4f43-83f0-6990ff76a5f8",
   "metadata": {},
   "outputs": [],
   "source": [
    "start = 2_000_000\n",
    "end = 10_000_000"
   ]
  },
  {
   "cell_type": "code",
   "execution_count": 27,
   "id": "c4a4a8df-2462-4ceb-96a1-459874b19a27",
   "metadata": {},
   "outputs": [],
   "source": [
    "start_offset={k:v for n,(k,v) in enumerate(zip(x.keys(),x.values())) if k<start and list(x.keys())[n+1]>start}"
   ]
  },
  {
   "cell_type": "code",
   "execution_count": 28,
   "id": "3160dc4f-5269-4b24-b4a1-a9fc641615d5",
   "metadata": {},
   "outputs": [],
   "source": [
    "end_offset_k=[k for n,(k,v) in enumerate(zip(x.keys(),x.values())) if k>end ][0]\n",
    "end_offset={end_offset_k:x[end_offset_k]}"
   ]
  },
  {
   "cell_type": "code",
   "execution_count": 29,
   "id": "c16e9830-df87-4fff-807a-4f8e75e83d4f",
   "metadata": {},
   "outputs": [
    {
     "data": {
      "text/plain": [
       "{10010624: 12769866307}"
      ]
     },
     "execution_count": 29,
     "metadata": {},
     "output_type": "execute_result"
    }
   ],
   "source": [
    "end_offset"
   ]
  },
  {
   "cell_type": "code",
   "execution_count": 30,
   "id": "fd18b1f4-610f-41a1-bd87-4edc8118eeef",
   "metadata": {},
   "outputs": [],
   "source": [
    "start_startb,start_startoff = bgzf.split_virtual_offset(list(start_offset.values())[0])\n",
    "end_startb,end_startoff = bgzf.split_virtual_offset(list(end_offset.values())[0])"
   ]
  },
  {
   "cell_type": "code",
   "execution_count": 31,
   "id": "e1a5a0f8-d35d-4186-8486-280df91d4dbe",
   "metadata": {},
   "outputs": [
    {
     "data": {
      "text/plain": [
       "(39133, 14890)"
      ]
     },
     "execution_count": 31,
     "metadata": {},
     "output_type": "execute_result"
    }
   ],
   "source": [
    "start_startb,start_startoff"
   ]
  },
  {
   "cell_type": "code",
   "execution_count": 32,
   "id": "3f030e12-1e08-4a9f-a76e-66fc0911dc53",
   "metadata": {},
   "outputs": [
    {
     "data": {
      "text/plain": [
       "(194852, 45635)"
      ]
     },
     "execution_count": 32,
     "metadata": {},
     "output_type": "execute_result"
    }
   ],
   "source": [
    "end_startb,end_startoff"
   ]
  },
  {
   "cell_type": "code",
   "execution_count": null,
   "id": "b2317ba1-5744-486d-9d1f-d9d5d9742ae6",
   "metadata": {},
   "outputs": [],
   "source": []
  }
 ],
 "metadata": {
  "kernelspec": {
   "display_name": "Python 3 (ipykernel)",
   "language": "python",
   "name": "python3"
  },
  "language_info": {
   "codemirror_mode": {
    "name": "ipython",
    "version": 3
   },
   "file_extension": ".py",
   "mimetype": "text/x-python",
   "name": "python",
   "nbconvert_exporter": "python",
   "pygments_lexer": "ipython3",
   "version": "3.10.14"
  }
 },
 "nbformat": 4,
 "nbformat_minor": 5
}
