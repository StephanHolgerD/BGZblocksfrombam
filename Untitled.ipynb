{
 "cells": [
  {
   "cell_type": "code",
   "execution_count": 1,
   "id": "ce2152d8-a35f-4ddf-aee5-d3535d90859c",
   "metadata": {},
   "outputs": [],
   "source": [
    "import pysam\n",
    "from Bio import bgzf\n",
    "import io\n",
    "import gzip\n",
    "\n",
    "from bai.baiparser import get_bai_bins, get_header_bytes\n"
   ]
  },
  {
   "cell_type": "code",
   "execution_count": 2,
   "id": "18a30ce6-b529-466e-80e8-129099d9e19c",
   "metadata": {},
   "outputs": [],
   "source": [
    "#block gzip end of file marker\n",
    "_bgzf_eof = b\"\\x1f\\x8b\\x08\\x04\\x00\\x00\\x00\\x00\\x00\\xff\\x06\\x00BC\\x02\\x00\\x1b\\x00\\x03\\x00\\x00\\x00\\x00\\x00\\x00\\x00\\x00\\x00\""
   ]
  },
  {
   "cell_type": "code",
   "execution_count": 3,
   "id": "4d01460c-b0d5-48cc-a90f-b424b3e41e7d",
   "metadata": {},
   "outputs": [],
   "source": [
    "bam = 'data/testdata.bam'\n",
    "bai = 'data/testdata.bam.bai'\n"
   ]
  },
  {
   "cell_type": "code",
   "execution_count": 4,
   "id": "154eb8e3-e5ac-40de-864f-947454469ca1",
   "metadata": {},
   "outputs": [],
   "source": [
    "#create header bam dict \n",
    "\n",
    "with pysam.AlignmentFile(bam) as b:\n",
    "    headerobject = b.header"
   ]
  },
  {
   "cell_type": "code",
   "execution_count": 5,
   "id": "8d54260b-b1ac-4831-abad-ac9bf49798c3",
   "metadata": {},
   "outputs": [],
   "source": [
    "header_end = get_header_bytes(bai)[0]\n",
    "with open(bam,'rb')as f:\n",
    "    header_bytes  = f.read(header_end)"
   ]
  },
  {
   "cell_type": "code",
   "execution_count": 6,
   "id": "65f02f14-f82b-4f43-83f0-6990ff76a5f8",
   "metadata": {},
   "outputs": [],
   "source": [
    "chromosome='chr1'\n",
    "refid= headerobject.get_tid(chromosome)\n",
    "start = 0\n",
    "end = 5_000_000"
   ]
  },
  {
   "cell_type": "code",
   "execution_count": 7,
   "id": "879cb8ae-9273-4b3f-a815-0976ca592a78",
   "metadata": {},
   "outputs": [],
   "source": [
    "x = get_bai_bins(bai,refid)\n",
    "start_offset={k:v for n,(k,v) in enumerate(zip(x.keys(),x.values())) if k<=start and list(x.keys())[n+1]>start}\n",
    "end_offset_k=[k for n,(k,v) in enumerate(zip(x.keys(),x.values())) if k>end ][0]\n",
    "end_offset={end_offset_k:x[end_offset_k]}\n",
    "start_startb,start_startoff = bgzf.split_virtual_offset(list(start_offset.values())[0])\n",
    "end_startb,end_startoff = bgzf.split_virtual_offset(list(end_offset.values())[0])\n",
    "\n",
    "\n",
    "    \n",
    "with open(bam,'rb')as f:\n",
    "    f.seek(start_startb)\n",
    "    chunk1 = f.read(end_startb-start_startb)\n",
    "    chunk2 = f.read(20_000)\n",
    "\n",
    "filehndl = io.BytesIO(chunk1)\n",
    "values = [x for x  in bgzf.BgzfBlocks(filehndl)]\n",
    "frst_blck = chunk1[:values[0][1]]\n",
    "frst_blck_cln = gzip.compress(gzip.decompress(frst_blck)[start_startoff:])\n",
    "blks_nofirst_nolast = chunk1[values[0][1]:]\n",
    "\n",
    "\n",
    "\n",
    "filehndl = io.BytesIO(chunk2)\n",
    "\n",
    "values = []\n",
    "\n",
    "\n",
    "for n,x in enumerate(bgzf.BgzfBlocks(filehndl)):\n",
    "    values.append(x)\n",
    "    break\n",
    "\n",
    "frst_blck_end = chunk2[:values[0][1]]\n",
    "frst_blck_end_cln = gzip.compress(gzip.decompress(frst_blck_end)[:end_startoff])\n",
    "#blks_nofirst_nolast = chunk1[values[0][1]:]"
   ]
  },
  {
   "cell_type": "code",
   "execution_count": 15,
   "id": "c4a4a8df-2462-4ceb-96a1-459874b19a27",
   "metadata": {},
   "outputs": [],
   "source": []
  },
  {
   "cell_type": "code",
   "execution_count": 16,
   "id": "3160dc4f-5269-4b24-b4a1-a9fc641615d5",
   "metadata": {},
   "outputs": [],
   "source": []
  },
  {
   "cell_type": "code",
   "execution_count": 17,
   "id": "fd18b1f4-610f-41a1-bd87-4edc8118eeef",
   "metadata": {},
   "outputs": [],
   "source": []
  },
  {
   "cell_type": "code",
   "execution_count": 18,
   "id": "8ce71eaf-c6e2-4234-a169-fa39daa8f606",
   "metadata": {},
   "outputs": [],
   "source": []
  },
  {
   "cell_type": "code",
   "execution_count": 19,
   "id": "c239d3a4-7726-42cb-adfb-859861b5c275",
   "metadata": {},
   "outputs": [],
   "source": []
  },
  {
   "cell_type": "code",
   "execution_count": 20,
   "id": "6e71422a-ae58-4688-b1bf-afa27a306446",
   "metadata": {},
   "outputs": [],
   "source": []
  },
  {
   "cell_type": "code",
   "execution_count": 8,
   "id": "115a3adb-5a17-480e-b948-af0ae6600ca4",
   "metadata": {},
   "outputs": [],
   "source": [
    "bam_out = f'{chromosome}-{start}-{end}.bam'"
   ]
  },
  {
   "cell_type": "code",
   "execution_count": 9,
   "id": "b2317ba1-5744-486d-9d1f-d9d5d9742ae6",
   "metadata": {},
   "outputs": [],
   "source": [
    "with open(bam_out,'wb')as o:\n",
    "    o.write(header_bytes)\n",
    "    o.write(frst_blck_cln)\n",
    "    o.write(blks_nofirst_nolast)\n",
    "    o.write(frst_blck_end_cln)\n",
    "    o.write(_bgzf_eof)"
   ]
  },
  {
   "cell_type": "code",
   "execution_count": null,
   "id": "ef634da5-a154-40a4-a87f-0a9d7f390875",
   "metadata": {},
   "outputs": [],
   "source": []
  }
 ],
 "metadata": {
  "kernelspec": {
   "display_name": "Python 3 (ipykernel)",
   "language": "python",
   "name": "python3"
  },
  "language_info": {
   "codemirror_mode": {
    "name": "ipython",
    "version": 3
   },
   "file_extension": ".py",
   "mimetype": "text/x-python",
   "name": "python",
   "nbconvert_exporter": "python",
   "pygments_lexer": "ipython3",
   "version": "3.10.14"
  }
 },
 "nbformat": 4,
 "nbformat_minor": 5
}
