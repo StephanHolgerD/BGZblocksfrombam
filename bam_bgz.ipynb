{
 "cells": [
  {
   "cell_type": "code",
   "execution_count": 1,
   "id": "89f22cd0",
   "metadata": {},
   "outputs": [],
   "source": [
    "from bai import Bai\n",
    "from Bio import bgzf\n",
    "import io\n",
    "import gzip\n",
    "\n",
    "import pysam "
   ]
  },
  {
   "cell_type": "code",
   "execution_count": 2,
   "id": "5d44111d",
   "metadata": {},
   "outputs": [],
   "source": [
    "#block gzip end of file marker\n",
    "_bgzf_eof = b\"\\x1f\\x8b\\x08\\x04\\x00\\x00\\x00\\x00\\x00\\xff\\x06\\x00BC\\x02\\x00\\x1b\\x00\\x03\\x00\\x00\\x00\\x00\\x00\\x00\\x00\\x00\\x00\""
   ]
  },
  {
   "cell_type": "code",
   "execution_count": 3,
   "id": "32a97166",
   "metadata": {},
   "outputs": [],
   "source": [
    "bai ='data/testdata.bam.bai'\n",
    "bam = 'data/testdata.bam'"
   ]
  },
  {
   "cell_type": "code",
   "execution_count": 4,
   "id": "15c8cfeb",
   "metadata": {},
   "outputs": [],
   "source": [
    "#thats where the bai file magic happens :)\n",
    "b_idx=Bai(bai)"
   ]
  },
  {
   "cell_type": "code",
   "execution_count": 5,
   "id": "fec2031d",
   "metadata": {},
   "outputs": [],
   "source": [
    "#create header bam dict \n",
    "\n",
    "with pysam.AlignmentFile(bam) as b:\n",
    "    headerobject = b.header"
   ]
  },
  {
   "cell_type": "code",
   "execution_count": 6,
   "id": "1f7da2a3",
   "metadata": {},
   "outputs": [],
   "source": [
    "\n",
    "#ref_id = 1 #that not the chrom but the id in the bam header its like 0:chr1,1:chr2..\n",
    "\n",
    "\n",
    "chromosome='chr1'\n",
    "ref_id= headerobject.get_tid(chromosome)\n",
    "start_coords=5_000_000\n",
    "end_coords=10_000_000\n",
    "\n",
    "\n",
    "#somehow i still need this padd to read in the next region to get all the read I want\n",
    "padd=100_000\n"
   ]
  },
  {
   "cell_type": "code",
   "execution_count": 24,
   "id": "84a4dbb7-f31a-4050-9d35-91c0b902e5a1",
   "metadata": {},
   "outputs": [],
   "source": [
    "header = b_idx.query(0,0,)"
   ]
  },
  {
   "cell_type": "code",
   "execution_count": null,
   "id": "5d8519e7-979c-4aa5-9b3b-775968912f5d",
   "metadata": {},
   "outputs": [],
   "source": []
  },
  {
   "cell_type": "code",
   "execution_count": 53,
   "id": "82ca69bf",
   "metadata": {},
   "outputs": [],
   "source": [
    "#query header, query return the start byte of the first data block --> everything before is header\n",
    "end=1\n",
    "header = b_idx.query(0,0,end)\n",
    "\n",
    "while header ==None:\n",
    "    end=end+10_000\n",
    "    header = b_idx.query(0,0,end)\n",
    "    \n",
    "header_byte,header_offset = bgzf.split_virtual_offset(header.voffset_beg)\n",
    "\n",
    "# opens bam and read only header bytes, no alignments\n",
    "with open(bam,'rb')as f:\n",
    "    header_bytes  = f.read(header_byte)"
   ]
  },
  {
   "cell_type": "code",
   "execution_count": 54,
   "id": "951bf956",
   "metadata": {},
   "outputs": [],
   "source": [
    "\n",
    "# here I do 2 queries 1 for the start and one for the end, as a result I get 4 byte coords + 4 offsets\n",
    "\n",
    "\n",
    "#start byte start coord\n",
    "#end byte start coord\n",
    "\n",
    "\n",
    "#start byte end coord\n",
    "#end byte end coord\n",
    "\n",
    "\n",
    "start = b_idx.query(ref_id,start_coords,start_coords+1)\n",
    "start_startb,start_startoff = bgzf.split_virtual_offset(start.voffset_beg)\n",
    "start_endb,start_endoff = bgzf.split_virtual_offset(start.voffset_end)\n",
    "\n",
    "\n",
    "end = b_idx.query(ref_id,end_coords+padd,end_coords+1+padd)\n",
    "end_startb,end_startoff = bgzf.split_virtual_offset(end.voffset_beg)\n",
    "end_endb,end_endoff = bgzf.split_virtual_offset(end.voffset_end)\n",
    "\n",
    "while not end_endb>end_startb:\n",
    "    padd=padd+10_000\n",
    "    end = b_idx.query(ref_id,end_coords+padd,end_coords+1+padd)\n",
    "    end_startb,end_startoff = bgzf.split_virtual_offset(end.voffset_beg)\n",
    "    end_endb,end_endoff = bgzf.split_virtual_offset(end.voffset_end)\n",
    "    "
   ]
  },
  {
   "cell_type": "code",
   "execution_count": 55,
   "id": "3c5ce884",
   "metadata": {},
   "outputs": [],
   "source": [
    "\n",
    "    \n",
    "with open(bam,'rb')as f:\n",
    "    f.seek(start_startb)\n",
    "    chunk1 = f.read(end_startb-start_startb)\n",
    "    chunk2 = f.read(end_endb-end_startb)"
   ]
  },
  {
   "cell_type": "code",
   "execution_count": 56,
   "id": "ca497222-011a-4c3b-8c57-f3299c6db6e6",
   "metadata": {},
   "outputs": [
    {
     "data": {
      "text/plain": [
       "17587"
      ]
     },
     "execution_count": 56,
     "metadata": {},
     "output_type": "execute_result"
    }
   ],
   "source": [
    "len(chunk2)"
   ]
  },
  {
   "cell_type": "code",
   "execution_count": 57,
   "id": "3951b189",
   "metadata": {},
   "outputs": [],
   "source": [
    "filehndl = io.BytesIO(chunk1)\n",
    "values = [x for x  in bgzf.BgzfBlocks(filehndl)]\n",
    "frst_blck = chunk1[:values[0][1]]\n",
    "frst_blck_cln = gzip.compress(gzip.decompress(frst_blck)[start_startoff:])\n",
    "blks_nofirst_nolast = chunk1[values[0][1]:]\n"
   ]
  },
  {
   "cell_type": "code",
   "execution_count": 58,
   "id": "cdac128b-49ee-4551-9fe9-4397438760bf",
   "metadata": {},
   "outputs": [
    {
     "data": {
      "text/plain": [
       "104252"
      ]
     },
     "execution_count": 58,
     "metadata": {},
     "output_type": "execute_result"
    }
   ],
   "source": [
    "len(chunk1)"
   ]
  },
  {
   "cell_type": "code",
   "execution_count": 59,
   "id": "e7a5c504",
   "metadata": {},
   "outputs": [],
   "source": [
    "filehndl = io.BytesIO(chunk2)\n",
    "values = [x for x  in bgzf.BgzfBlocks(filehndl)]\n",
    "frst_blck_end = chunk2[:values[0][1]]\n",
    "frst_blck_end_cln = gzip.compress(gzip.decompress(frst_blck_end)[:end_startoff])\n",
    "#blks_nofirst_nolast = chunk1[values[0][1]:]"
   ]
  },
  {
   "cell_type": "code",
   "execution_count": 60,
   "id": "a0933ab1",
   "metadata": {},
   "outputs": [],
   "source": [
    "bam_out = 'ROI.bam'"
   ]
  },
  {
   "cell_type": "code",
   "execution_count": 61,
   "id": "47e5d936",
   "metadata": {},
   "outputs": [],
   "source": [
    "with open(bam_out,'wb')as o:\n",
    "    o.write(header_bytes)\n",
    "    o.write(frst_blck_cln)\n",
    "    o.write(blks_nofirst_nolast)\n",
    "    o.write(frst_blck_end_cln)\n",
    "    o.write(_bgzf_eof)"
   ]
  },
  {
   "cell_type": "code",
   "execution_count": null,
   "id": "e1621ac7",
   "metadata": {},
   "outputs": [],
   "source": []
  }
 ],
 "metadata": {
  "kernelspec": {
   "display_name": "Python 3 (ipykernel)",
   "language": "python",
   "name": "python3"
  },
  "language_info": {
   "codemirror_mode": {
    "name": "ipython",
    "version": 3
   },
   "file_extension": ".py",
   "mimetype": "text/x-python",
   "name": "python",
   "nbconvert_exporter": "python",
   "pygments_lexer": "ipython3",
   "version": "3.10.14"
  }
 },
 "nbformat": 4,
 "nbformat_minor": 5
}
